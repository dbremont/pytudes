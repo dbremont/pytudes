{
 "cells": [
  {
   "cell_type": "raw",
   "metadata": {},
   "source": [
    "import sklearn"
   ]
  }
 ],
 "metadata": {
  "language_info": {
   "name": "python",
   "nbconvert_exporter": "python"
  },
  "orig_nbformat": 2
 },
 "nbformat": 4,
 "nbformat_minor": 2
}